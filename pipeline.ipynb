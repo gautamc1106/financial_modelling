{
 "cells": [
  {
   "cell_type": "code",
   "execution_count": 1,
   "metadata": {
    "collapsed": true
   },
   "outputs": [],
   "source": [
    "import numpy as np  \n",
    "import scipy as sc\n",
    "import pandas as pd\n",
    "import matplotlib as plt\n",
    "import seaborn as sns\n",
    "import os\n",
    "%matplotlib inline"
   ]
  },
  {
   "cell_type": "code",
   "execution_count": 3,
   "metadata": {
    "collapsed": false
   },
   "outputs": [
    {
     "data": {
      "text/html": [
       "<div>\n",
       "<style>\n",
       "    .dataframe thead tr:only-child th {\n",
       "        text-align: right;\n",
       "    }\n",
       "\n",
       "    .dataframe thead th {\n",
       "        text-align: left;\n",
       "    }\n",
       "\n",
       "    .dataframe tbody tr th {\n",
       "        vertical-align: top;\n",
       "    }\n",
       "</style>\n",
       "<table border=\"1\" class=\"dataframe\">\n",
       "  <thead>\n",
       "    <tr style=\"text-align: right;\">\n",
       "      <th></th>\n",
       "      <th>s&amp;p500_close</th>\n",
       "      <th>s&amp;p500_volume</th>\n",
       "    </tr>\n",
       "    <tr>\n",
       "      <th>Date</th>\n",
       "      <th></th>\n",
       "      <th></th>\n",
       "    </tr>\n",
       "  </thead>\n",
       "  <tbody>\n",
       "    <tr>\n",
       "      <th>2007-08-31</th>\n",
       "      <td>1473.989990</td>\n",
       "      <td>2731610000</td>\n",
       "    </tr>\n",
       "    <tr>\n",
       "      <th>2007-09-04</th>\n",
       "      <td>1489.420044</td>\n",
       "      <td>2766600000</td>\n",
       "    </tr>\n",
       "    <tr>\n",
       "      <th>2007-09-05</th>\n",
       "      <td>1472.290039</td>\n",
       "      <td>2991600000</td>\n",
       "    </tr>\n",
       "    <tr>\n",
       "      <th>2007-09-06</th>\n",
       "      <td>1478.550049</td>\n",
       "      <td>2459590000</td>\n",
       "    </tr>\n",
       "    <tr>\n",
       "      <th>2007-09-07</th>\n",
       "      <td>1453.550049</td>\n",
       "      <td>3191080000</td>\n",
       "    </tr>\n",
       "  </tbody>\n",
       "</table>\n",
       "</div>"
      ],
      "text/plain": [
       "            s&p500_close  s&p500_volume\n",
       "Date                                   \n",
       "2007-08-31   1473.989990     2731610000\n",
       "2007-09-04   1489.420044     2766600000\n",
       "2007-09-05   1472.290039     2991600000\n",
       "2007-09-06   1478.550049     2459590000\n",
       "2007-09-07   1453.550049     3191080000"
      ]
     },
     "execution_count": 3,
     "metadata": {},
     "output_type": "execute_result"
    }
   ],
   "source": [
    "# ALL INDICES READ INTO DF\n",
    "\n",
    "from collections import OrderedDict\n",
    "series = OrderedDict()\n",
    "for filename in os.listdir(\"datasets/indices/\"):\n",
    "    \n",
    "    path = \"datasets/indices/\" + filename\n",
    "    cols = ['Date', 'Close', 'Volume']\n",
    "    col1 = str(filename.lower().split(\".\")[0] + '_close')\n",
    "    col2 = str(filename.lower().split(\".\")[0] + '_volume')\n",
    "    \n",
    "    try:\n",
    "        series[filename] = pd.read_csv(path, parse_dates=True, header=0, index_col=0, usecols=cols)\n",
    "        series[filename] = series[filename].rename(columns={'Date':'date','Close':col1,'Volume':col2})\n",
    "    except:\n",
    "        pass\n",
    "    #    if filename == \"S&P500-Energy.csv\":\n",
    "    #        series[filename] = pd.read_csv(path, parse_dates=True, header=0, index_col=0, usecols=['Date','Close'])\n",
    "    #        series[filename] = series[filename].rename(columns={'Date':'date','Close':col1})\n",
    "\n",
    "df_indices = pd.DataFrame()\n",
    "for each in series.keys():\n",
    "    df_indices = pd.concat([df_indices, series[each]], axis=1).dropna()\n",
    "df_indices.head()"
   ]
  },
  {
   "cell_type": "code",
   "execution_count": null,
   "metadata": {
    "collapsed": false
   },
   "outputs": [],
   "source": [
    "# ALL SENTIMENT DATA READ INTO DF\n",
    "\n",
    "series = OrderedDict()\n",
    "for filename in os.listdir(\"datasets/sentiment/\"):\n",
    "    \n",
    "    path = \"datasets/sentiment/\" + filename\n",
    "    cols = ['Date', 'Sentiment', 'News Volume', 'News Buzz']\n",
    "    col1 = str(filename[4:].lower().split(\"_\")[0] + '_sentiment')\n",
    "    col2 = str(filename[4:].lower().split(\"_\")[0] + '_newsvol')\n",
    "    col3 = str(filename[4:].lower().split(\"_\")[0] + '_buzz')\n",
    "    \n",
    "    try:\n",
    "        series[filename] = pd.read_csv(path, parse_dates=True, header=0, index_col=0, usecols=cols)\n",
    "        series[filename] = series[filename].rename(columns={'Date':'date','Sentiment':col1,'News Volume':col2, 'News Buzz':col3})\n",
    "    except:\n",
    "        pass\n",
    "\n",
    "df_sentiment = pd.DataFrame()\n",
    "for each in series.keys():\n",
    "    df_sentiment = pd.concat([df_sentiment, series[each]], axis=1).dropna()\n",
    "#df_sentiment.head()"
   ]
  },
  {
   "cell_type": "code",
   "execution_count": null,
   "metadata": {
    "collapsed": false
   },
   "outputs": [],
   "source": [
    "# ALL STOCKS READ INTO DF\n",
    "\n",
    "series = OrderedDict()\n",
    "for filename in os.listdir(\"datasets/stock prices/\"):\n",
    "    \n",
    "    path = \"datasets/stock prices/\" + filename\n",
    "    cols = ['Date', 'Close', 'Volume']\n",
    "    col1 = str(filename.lower().split(\".\")[0] + '_close')\n",
    "    col2 = str(filename.lower().split(\".\")[0] + '_volume')\n",
    "    \n",
    "    try:\n",
    "        series[filename] = pd.read_csv(path, parse_dates=True, header=0, index_col=0, usecols=cols)\n",
    "        series[filename] = series[filename].rename(columns={'Date':'date','Close':col1,'Volume':col2})\n",
    "    except:\n",
    "        pass\n",
    "\n",
    "df_stocks = pd.DataFrame()\n",
    "for each in series.keys():\n",
    "    df_stocks = pd.concat([df_stocks, series[each]], axis=1).dropna()\n",
    "#df_stocks.head()"
   ]
  },
  {
   "cell_type": "code",
   "execution_count": null,
   "metadata": {
    "collapsed": false
   },
   "outputs": [],
   "source": [
    "# CONVERTING TO LOG RETURNS\n",
    "\n",
    "df_pre = pd.concat([df_stocks, df_indices],axis=1).dropna()\n",
    "\n",
    "# Stashing column names\n",
    "all_cols = df_pre.columns\n",
    "prices = [k for k in all_cols if 'close' in k]\n",
    "mat = df_pre[prices].as_matrix()\n",
    "matnew = np.zeros((len(mat)-1,len(mat[0])))\n",
    "for i in xrange(len(matnew)):\n",
    "    matnew[i] = np.divide(np.subtract(mat[i+1], mat[i]), mat[i])\n",
    "matnew1 = np.cumsum(np.log(1+ matnew), axis=0)\n",
    "\n",
    "df_pre = df_pre.iloc[1:,]\n",
    "df_pre = df_pre.drop(prices, axis=1)\n",
    "df_pre = pd.concat([df_pre, pd.DataFrame(matnew1, columns=prices, index=df_pre.index)], axis=1)\n",
    "df_pre = df_pre.reindex_axis(sorted(df_pre.columns), axis=1)\n",
    "\n",
    "#print df_pre.info()"
   ]
  },
  {
   "cell_type": "markdown",
   "metadata": {
    "collapsed": false
   },
   "source": [
    "#VOLATILITY NORMALIZING\n",
    "\n",
    "x = df_pre.abb_close\n",
    "y1 = np.zeros(len(x))\n",
    "\n",
    "#Detrending 1 - SLOW MOVING AVERAGE - PICK WINDOW LENGTH\n",
    "win = 60\n",
    "for i in range(len(x)-60):\n",
    "    y1[i] = np.mean(x[i:i+60])\n",
    "y1 = pd.Series(y1, index=x.index)\n",
    "x.plot(color='yellow')\n",
    "y.plot(color='blue')\n",
    "z1 = pd.Series.subtract(x,y1)\n",
    "z1.plot()\n",
    "\n",
    "#Detrending 2 - SCIPY DETREND\n",
    "from scipy import signal\n",
    "y2 = pd.Series(signal.detrend(x), index=x.index)\n",
    "y2.plot(color='green')\n",
    "\n",
    "#Detrending 3 - LINEAR REGRESSION\n",
    "from sklearn.linear_model import LinearRegression\n",
    "\n",
    "mod = LinearRegression()\n",
    "r = np.arange(len(x)).reshape((len(x),1))\n",
    "v = x.as_matrix().reshape((len(x),1))\n",
    "mod.fit(r,v)\n",
    "trend = mod.predict(v)\n",
    "y3 = pd.Series(trend.reshape(len(trend),),index=x.index)\n",
    "y3.plot()"
   ]
  },
  {
   "cell_type": "code",
   "execution_count": null,
   "metadata": {
    "collapsed": false,
    "scrolled": true
   },
   "outputs": [],
   "source": [
    "# FINAL MERGE\n",
    "\n",
    "df = pd.concat([df_pre, df_sentiment],axis=1).dropna()\n",
    "print len(df)\n",
    "print df.info()\n",
    "print df.head()"
   ]
  },
  {
   "cell_type": "code",
   "execution_count": null,
   "metadata": {
    "collapsed": true
   },
   "outputs": [],
   "source": []
  }
 ],
 "metadata": {
  "anaconda-cloud": {},
  "kernelspec": {
   "display_name": "Python [ipykernel_py2]",
   "language": "python",
   "name": "Python [ipykernel_py2]"
  },
  "language_info": {
   "codemirror_mode": {
    "name": "ipython",
    "version": 2
   },
   "file_extension": ".py",
   "mimetype": "text/x-python",
   "name": "python",
   "nbconvert_exporter": "python",
   "pygments_lexer": "ipython2",
   "version": "2.7.13"
  }
 },
 "nbformat": 4,
 "nbformat_minor": 1
}
