{
 "cells": [
  {
   "cell_type": "code",
   "execution_count": 1,
   "metadata": {
    "collapsed": true
   },
   "outputs": [],
   "source": [
    "import numpy as np  \n",
    "import scipy as sc\n",
    "import pandas as pd\n",
    "import matplotlib.pyplot as plt\n",
    "import seaborn as sns\n",
    "import os\n",
    "%matplotlib inline"
   ]
  },
  {
   "cell_type": "code",
   "execution_count": 2,
   "metadata": {
    "collapsed": false
   },
   "outputs": [],
   "source": [
    "# ALL DATA READ INTO PANDAS DATAFRAME\n",
    "\n",
    "df_indices = pd.read_csv(\"modified_datasets/indices\", parse_dates=True, header=0, index_col=0)\n",
    "df_sentiment = pd.read_csv(\"modified_datasets/sentiment\", parse_dates=True, header=0, index_col=0)\n",
    "df_stocks = pd.read_csv(\"modified_datasets/stock_info_all\", parse_dates=True, header=0, index_col=0)"
   ]
  },
  {
   "cell_type": "code",
   "execution_count": 3,
   "metadata": {
    "collapsed": false
   },
   "outputs": [],
   "source": [
    "# CONVERTING TO LOG RETURNS\n",
    "\n",
    "df_pre = pd.concat([df_stocks, df_indices],axis=1).dropna()\n",
    "\n",
    "# Stashing column names\n",
    "prices = [k for k in df_pre.columns if 'close' in k]\n",
    "mat = df_pre[prices].as_matrix()\n",
    "matnew = np.zeros((len(mat)-1,len(mat[0])))\n",
    "for i in xrange(len(matnew)):\n",
    "    matnew[i] = np.divide(np.subtract(mat[i+1], mat[i]), mat[i])\n",
    "matnew = np.log(1 + matnew)#, axis=0)\n",
    "\n",
    "vols = [k for k in df_pre.columns if 'volume' in k]\n",
    "df_pre.ccgi_volume = df_pre.ccgi_volume.replace(0.0, 1.0)\n",
    "matv = df_pre[vols].as_matrix()\n",
    "matnewv = np.zeros((len(mat)-1,len(mat[0])))\n",
    "for i in xrange(len(matnewv)):\n",
    "    matnewv[i] = np.divide(np.subtract(matv[i+1], matv[i]), matv[i])\n",
    "matnewv = np.log(1 + matnewv)\n",
    "\n",
    "df_pre = df_pre.iloc[1:,]\n",
    "df_pre = pd.concat([pd.DataFrame(matnewv, columns=vols, index=df_pre.index),\n",
    "                    pd.DataFrame(matnew, columns=prices, index=df_pre.index)], axis=1)\n",
    "\n",
    "df_pre = df_pre.iloc[4:]\n",
    "df_pre = df_pre.reindex_axis(sorted(df_pre.columns), axis=1)\n",
    "#df_sentiment = (df_sentiment - df_sentiment.min()) / (df_sentiment.max() - df_sentiment.min())"
   ]
  },
  {
   "cell_type": "code",
   "execution_count": null,
   "metadata": {
    "collapsed": false
   },
   "outputs": [],
   "source": [
    "# TECHNIQUES FOR DETRENDING\n",
    "\n",
    "x = np.cumsum(df_pre.abb_close, axis=0)\n",
    "y1 = np.zeros(len(x))\n",
    "\n",
    "# Detrending 1 - SLOW MOVING AVERAGE - PICK WINDOW LENGTH\n",
    "plt.figure()\n",
    "win = 60\n",
    "for i in range(len(x)-60):\n",
    "    y1[i] = np.mean(x[i:i+60])\n",
    "y1 = pd.Series(y1, index=x.index) # need to be offset at the start\n",
    "x.plot(color='yellow', label='Original')\n",
    "z1 = pd.Series.subtract(x,y1)\n",
    "z1.plot(color='blue', label='SMA')\n",
    "\n",
    "# Detrending 2 - SCIPY DETREND\n",
    "\n",
    "from scipy import signal\n",
    "y2 = pd.Series(signal.detrend(x), index=x.index)\n",
    "y2.plot(color='green', label='Scipy function')\n",
    "\n",
    "# Detrending 3 - LINEAR REGRESSION\n",
    "\n",
    "from sklearn.linear_model import LinearRegression\n",
    "mod = LinearRegression()\n",
    "r = np.arange(len(x)).reshape((len(x),1))\n",
    "v = x.as_matrix().reshape((len(x),1))\n",
    "mod.fit(r,v)\n",
    "trend = mod.predict(v)\n",
    "y3 = pd.Series(trend.reshape(len(trend),),index=x.index)\n",
    "#y3.plot(color='red', label='Linear Regerssion')\n",
    "z3 = pd.Series.subtract(x, y3)\n",
    "z3.plot(color='red', label='LR')\n",
    "#plt.legend(bbox_anchor=(1.0,0.5))\n",
    "plt.show()"
   ]
  },
  {
   "cell_type": "code",
   "execution_count": 109,
   "metadata": {
    "collapsed": false,
    "scrolled": false
   },
   "outputs": [],
   "source": [
    "from matplotlib.backends.backend_pdf import PdfPages\n",
    "\n",
    "def detrend(x, mode):\n",
    "    from sklearn.linear_model import LinearRegression\n",
    "    mod = LinearRegression()\n",
    "    if mode==1:\n",
    "        x1 = np.cumsum(x, axis=0)\n",
    "    else:\n",
    "        x1 = x\n",
    "    r = np.arange(len(x)).reshape((len(x),1))\n",
    "    v = x.values.reshape((len(x),1))\n",
    "    mod.fit(r,v)\n",
    "    trend = mod.predict(v)\n",
    "    y3 = pd.Series(trend.reshape(len(trend),),index=x.index)\n",
    "    z3 = pd.Series.subtract(x, y3)\n",
    "    z3 = pd.Series.subtract(x, y3)\n",
    "    return z3\n",
    "\n",
    "def stationarity(x):\n",
    "    \n",
    "\n",
    "with PdfPages('seasonal_stock_ticks.pdf') as pdf:\n",
    "    for j in xrange(0, len(df_pre.columns),2):\n",
    "        \n",
    "        fig = plt.figure()\n",
    "        t = 'Stock ' + df_pre.columns[j].split('_')[0].upper()\n",
    "        fig.suptitle(t, fontsize=14)\n",
    "        \n",
    "        for i in range(0,len(df_pre)-240,240):\n",
    "            ax1 = fig.add_subplot(223)\n",
    "            ax1.plot(range(0,60), detrend(df_pre.iloc[i:i+60,j], 1))\n",
    "            ax1.set_title(\"3rd quarter Jul-Sept\")\n",
    "            ax2 = fig.add_subplot(224)\n",
    "            ax2.plot(range(0,60), detrend(df_pre.iloc[i+60:i+120,j], 1))\n",
    "            ax2.set_title(\"4th quarter Oct-Dec\")\n",
    "\n",
    "            if i >= 1680:\n",
    "                break\n",
    "\n",
    "            ax3 = fig.add_subplot(221)\n",
    "            ax3.plot(range(0,60), detrend(df_pre.iloc[i+120:i+180,j], 1))\n",
    "            ax3.set_title(\"1st quarter Jan-Mar\")\n",
    "\n",
    "            ax4 = fig.add_subplot(222)\n",
    "            ax4.plot(range(0,60), detrend(df_pre.iloc[i+180:i+240,j], 1),\n",
    "                     label=df_pre.iloc[i+180:i+181].index.year[0])\n",
    "            ax4.set_title(\"2nd quarter Apr-Jun\")\n",
    "            ax4.legend(bbox_to_anchor=(1.0, 0.5), loc='center left', borderaxespad=0.)\n",
    "\n",
    "        plt.tight_layout(rect=[0, 0.03, 1, 0.95])\n",
    "        pdf.savefig(bbox_inches='tight')\n",
    "        plt.close()"
   ]
  },
  {
   "cell_type": "code",
   "execution_count": 110,
   "metadata": {
    "collapsed": true
   },
   "outputs": [],
   "source": [
    "with PdfPages('seasonal_stock_vol.pdf') as pdf:\n",
    "    for j in xrange(1, len(df_pre.columns),2):\n",
    "        \n",
    "        fig = plt.figure()\n",
    "        t = 'Stock ' + df_pre.columns[j].split('_')[0].upper()\n",
    "        fig.suptitle(t, fontsize=14)\n",
    "        \n",
    "        for i in range(0,len(df_pre)-240,240):\n",
    "            ax1 = fig.add_subplot(223)\n",
    "            ax1.plot(range(0,60), detrend(df_pre.iloc[i:i+60,j], 0))\n",
    "            ax1.set_title(\"3rd quarter Jul-Sept\")\n",
    "            ax2 = fig.add_subplot(224)\n",
    "            ax2.plot(range(0,60), detrend(df_pre.iloc[i+60:i+120,j], 0))\n",
    "            ax2.set_title(\"4th quarter Oct-Dec\")\n",
    "\n",
    "            if i >= 1680:\n",
    "                break\n",
    "\n",
    "            ax3 = fig.add_subplot(221)\n",
    "            ax3.plot(range(0,60), detrend(df_pre.iloc[i+120:i+180,j], 0))\n",
    "            ax3.set_title(\"1st quarter Jan-Mar\")\n",
    "\n",
    "            ax4 = fig.add_subplot(222)\n",
    "            ax4.plot(range(0,60), detrend(df_pre.iloc[i+180:i+240,j], 0),\n",
    "                     label=df_pre.iloc[i+180:i+181].index.year[0])\n",
    "            ax4.set_title(\"2nd quarter Apr-Jun\")\n",
    "            ax4.legend(bbox_to_anchor=(1.0, 0.5), loc='center left', borderaxespad=0.)\n",
    "\n",
    "        plt.tight_layout(rect=[0, 0.03, 1, 0.95])\n",
    "        pdf.savefig(bbox_inches='tight')\n",
    "        plt.close()"
   ]
  },
  {
   "cell_type": "code",
   "execution_count": null,
   "metadata": {
    "collapsed": true
   },
   "outputs": [],
   "source": []
  }
 ],
 "metadata": {
  "anaconda-cloud": {},
  "kernelspec": {
   "display_name": "Python [ipykernel_py2]",
   "language": "python",
   "name": "Python [ipykernel_py2]"
  },
  "language_info": {
   "codemirror_mode": {
    "name": "ipython",
    "version": 2
   },
   "file_extension": ".py",
   "mimetype": "text/x-python",
   "name": "python",
   "nbconvert_exporter": "python",
   "pygments_lexer": "ipython2",
   "version": "2.7.13"
  }
 },
 "nbformat": 4,
 "nbformat_minor": 1
}
