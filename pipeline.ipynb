{
 "cells": [
  {
   "cell_type": "code",
   "execution_count": null,
   "metadata": {
    "collapsed": true
   },
   "outputs": [],
   "source": [
    "import numpy as np\n",
    "import scipy as sc\n",
    "import pandas as pd\n",
    "import matplotlib as plt\n",
    "import seaborn as sns\n",
    "import os\n",
    "%matplotlib inline"
   ]
  },
  {
   "cell_type": "code",
   "execution_count": null,
   "metadata": {
    "collapsed": false
   },
   "outputs": [],
   "source": [
    "# ALL INDICES READ INTO DF\n",
    "\n",
    "from collections import OrderedDict\n",
    "series = OrderedDict()\n",
    "for filename in os.listdir(\"datasets/indices/\"):\n",
    "    path = \"datasets/indices/\" + filename\n",
    "    col1 = str(filename.lower().split(\".\")[0] + '_close')\n",
    "    col2 = str(filename.lower().split(\".\")[0] + '_volume')\n",
    "    series[filename] = pd.read_csv(path, parse_dates=True, header=0, index_col=0, \n",
    "                                   usecols=['Date', 'Close', 'Volume'])\n",
    "    series[filename] = series[filename].rename(columns={'Date':'date','Close':col1,'Volume':col2})\n",
    "\n",
    "df_indices = pd.DataFrame()\n",
    "for each in series.keys():\n",
    "    df_indices = pd.concat([df_indices, series[each]], axis=1).dropna()\n",
    "df_indices.head()"
   ]
  },
  {
   "cell_type": "code",
   "execution_count": null,
   "metadata": {
    "collapsed": false
   },
   "outputs": [],
   "source": [
    "# ALL SENTIMENT DATA READ INTO DF\n",
    "\n",
    "from collections import OrderedDict\n",
    "series = OrderedDict()\n",
    "for filename in os.listdir(\"datasets/sentiment/\"):\n",
    "    path = \"datasets/sentiment/\" + filename\n",
    "    col1 = str(filename[4:].lower().split(\"_\")[0] + '_sentiment')\n",
    "    col2 = str(filename[4:].lower().split(\"_\")[0] + '_newsvol')\n",
    "    col3 = str(filename[4:].lower().split(\"_\")[0] + '_buzz')\n",
    "    series[filename] = pd.read_csv(path, parse_dates=True, header=0, index_col=0, \n",
    "                                   usecols=['Date', 'Sentiment', 'News Volume', 'News Buzz'])\n",
    "    series[filename] = series[filename].rename(columns={'Date':'date','Sentiment':col1,'News Volume':col2, 'News Buzz':col3})\n",
    "\n",
    "df_sentiment = pd.DataFrame()\n",
    "for each in series.keys():\n",
    "    df_sentiment = pd.concat([df_sentiment, series[each]], axis=1).dropna()\n",
    "df_sentiment.head()"
   ]
  },
  {
   "cell_type": "code",
   "execution_count": null,
   "metadata": {
    "collapsed": false
   },
   "outputs": [],
   "source": [
    "# ALL STOCKS READ INTO DF\n",
    "\n",
    "from collections import OrderedDict\n",
    "series = OrderedDict()\n",
    "for filename in os.listdir(\"datasets/stock prices/\"):\n",
    "    path = \"datasets/stock prices/\" + filename\n",
    "    col1 = str(filename.lower().split(\".\")[0] + '_close')\n",
    "    col2 = str(filename.lower().split(\".\")[0] + '_volume')\n",
    "    series[filename] = pd.read_csv(path, parse_dates=True, header=0, index_col=0, \n",
    "                                   usecols=['Date', 'Close', 'Volume'])\n",
    "    series[filename] = series[filename].rename(columns={'Date':'date','Close':col1,'Volume':col2})\n",
    "\n",
    "df_stocks = pd.DataFrame()\n",
    "for each in series.keys():\n",
    "    df_stocks = pd.concat([df_stocks, series[each]], axis=1).dropna()\n",
    "df_stocks.head()"
   ]
  },
  {
   "cell_type": "code",
   "execution_count": null,
   "metadata": {
    "collapsed": false,
    "scrolled": true
   },
   "outputs": [],
   "source": [
    "# FINAL MERGE\n",
    "\n",
    "df = pd.concat([df_stocks, df_sentiment],axis=1).dropna()\n",
    "print len(df)\n",
    "print df.info()"
   ]
  },
  {
   "cell_type": "code",
   "execution_count": null,
   "metadata": {
    "collapsed": true
   },
   "outputs": [],
   "source": []
  }
 ],
 "metadata": {
  "anaconda-cloud": {},
  "kernelspec": {
   "display_name": "Python [ipykernel_py2]",
   "language": "python",
   "name": "Python [ipykernel_py2]"
  },
  "language_info": {
   "codemirror_mode": {
    "name": "ipython",
    "version": 2
   },
   "file_extension": ".py",
   "mimetype": "text/x-python",
   "name": "python",
   "nbconvert_exporter": "python",
   "pygments_lexer": "ipython2",
   "version": "2.7.13"
  }
 },
 "nbformat": 4,
 "nbformat_minor": 1
}
